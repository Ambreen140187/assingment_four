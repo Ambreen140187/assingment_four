{
  "nbformat": 4,
  "nbformat_minor": 0,
  "metadata": {
    "colab": {
      "provenance": [],
      "authorship_tag": "ABX9TyPczKkDHbyM/a3Bmvrvyoar",
      "include_colab_link": true
    },
    "kernelspec": {
      "name": "python3",
      "display_name": "Python 3"
    },
    "language_info": {
      "name": "python"
    }
  },
  "cells": [
    {
      "cell_type": "markdown",
      "metadata": {
        "id": "view-in-github",
        "colab_type": "text"
      },
      "source": [
        "<a href=\"https://colab.research.google.com/github/Ambreen140187/assingment_four/blob/main/00_intro_python_.ipynb\" target=\"_parent\"><img src=\"https://colab.research.google.com/assets/colab-badge.svg\" alt=\"Open In Colab\"/></a>"
      ]
    },
    {
      "cell_type": "code",
      "execution_count": null,
      "metadata": {
        "colab": {
          "base_uri": "https://localhost:8080/"
        },
        "id": "Irs1oBMsKO2E",
        "outputId": "1c57feb2-e03c-4e42-c285-d45b2b829d75"
      },
      "outputs": [
        {
          "output_type": "stream",
          "name": "stdout",
          "text": [
            "01_add_two_numbers\n",
            "this application add two numbers\n",
            "enter first number=6\n",
            "enter second number= 6\n",
            "total sum of 6 and 6 is = 12\n"
          ]
        }
      ],
      "source": [
        "print(\"01_add_two_numbers\")\n",
        "def add():\n",
        "  print(\"this application add two numbers\")\n",
        "  first_number=int(input(\"enter first number=\"))\n",
        "  sec_number=int(input(\"enter second number= \"))\n",
        "  total=int(first_number +sec_number)\n",
        "  print(f\"total sum of {first_number} and {sec_number} is = {total}\")\n",
        "\n",
        "if __name__==\"__main__\":\n",
        "  add()\n"
      ]
    },
    {
      "cell_type": "code",
      "source": [
        "print(\"02_agreement_bot\")\n",
        "\n",
        "def bot():\n",
        "  animal=str(input(\"what ia your favourite animal? :\"))\n",
        "  print(f\"my favourite animal is also {animal}!\")\n",
        "\n",
        "\n",
        "\n",
        "if __name__ ==\"__main__\":\n",
        "\n",
        "  bot()"
      ],
      "metadata": {
        "colab": {
          "base_uri": "https://localhost:8080/"
        },
        "id": "ymkuXoWjbkzj",
        "outputId": "8994a239-dba1-4a7a-df91-ff2e6b4ca503"
      },
      "execution_count": null,
      "outputs": [
        {
          "output_type": "stream",
          "name": "stdout",
          "text": [
            "02_agreement_bot\n",
            "what ia your favourite animal? :cat\n",
            "my favourite animal is also cat!\n"
          ]
        }
      ]
    },
    {
      "cell_type": "code",
      "source": [
        "print(\"03_fahrenheit_to_celsius\")\n",
        "def tem():\n",
        "  print(\"this code converting farnheit to celsius\")\n",
        "  fahrenheit_degree =float(input(\"input fahrenheit degree\"))\n",
        "  celsius_degree=(fahrenheit_degree - 32) * 5.0/9.0\n",
        "  print(f'temperture {fahrenheit_degree} ={celsius_degree}')\n",
        "\n",
        "\n",
        "\n",
        "if __name__ == \"__main__\":\n",
        "  tem()\n",
        "\n",
        "\n",
        "\n",
        "\n",
        "\n"
      ],
      "metadata": {
        "colab": {
          "base_uri": "https://localhost:8080/"
        },
        "id": "oog-jeIQdzJZ",
        "outputId": "df65ad43-d65e-45ad-a6d0-3cbf3b97371f"
      },
      "execution_count": null,
      "outputs": [
        {
          "output_type": "stream",
          "name": "stdout",
          "text": [
            "03_fahrenheit_to_celsius\n",
            "this code converting farnheit to celsius\n",
            "input fahrenheit degree30\n",
            "temperture 30.0 =-1.1111111111111112\n"
          ]
        }
      ]
    },
    {
      "cell_type": "code",
      "source": [],
      "metadata": {
        "id": "pLvhQqLulhkf"
      },
      "execution_count": null,
      "outputs": []
    },
    {
      "cell_type": "code",
      "source": [
        "print(\"04_how_old_are_they\")\n",
        "def ages():\n",
        "   Anthon:int=21\n",
        "   beth:int=Anthon + 6\n",
        "   chen:int=beth +20\n",
        "   drew:int=chen + Anthon\n",
        "   chent:int=chen\n",
        "\n",
        "   print(\"anthon is \" + str(Anthon))\n",
        "   print(\"beth is \" + str(beth))\n",
        "   print(\"beth is \" + str(chen))\n",
        "   print(\"beth is \" + str(drew))\n",
        "   print(\"beth is \" + str(chen))\n",
        "if  __name__ ==\"__main__\":\n",
        " ages()"
      ],
      "metadata": {
        "colab": {
          "base_uri": "https://localhost:8080/"
        },
        "id": "06lsEyQJjSvn",
        "outputId": "4cf9eb58-229d-42fb-a39b-d3cac0dee507"
      },
      "execution_count": null,
      "outputs": [
        {
          "output_type": "stream",
          "name": "stdout",
          "text": [
            "04_how_old_are_they\n",
            "anthon is 21\n",
            "beth is 27\n",
            "beth is 47\n",
            "beth is 68\n",
            "beth is 47\n"
          ]
        }
      ]
    },
    {
      "cell_type": "code",
      "source": [
        "print(\"05_triangle_perimeter\")\n",
        "\n",
        "def triangle():\n",
        "   print(\"this code tringle side\")\n",
        "   side1:float=float(input(\"enter 1st side triangle .\"))\n",
        "   side2:float=float(input(\"enter 2nd side triangle .\"))\n",
        "   side3:float=float(input(\"enter 3rd side triangle .\"))\n",
        "   total:float=float(side1 + side2 +side3)\n",
        "   print(f\"the sum of triangle are{side1} + {side2} + {side3}={total}. \")\n",
        "\n",
        "if __name__ ==\"__main__\":\n",
        " triangle()"
      ],
      "metadata": {
        "colab": {
          "base_uri": "https://localhost:8080/"
        },
        "id": "0EEUmSW0qPOU",
        "outputId": "9c0d0b75-5c16-401f-87fb-c754cac6506c"
      },
      "execution_count": null,
      "outputs": [
        {
          "output_type": "stream",
          "name": "stdout",
          "text": [
            "05_triangle_perimeter\n",
            "this code tringle side\n",
            "enter 1st side triangle .20\n",
            "enter 2nd side triangle .30\n",
            "enter 3rd side triangle .20\n",
            "the sum of triangle are20.0 + 30.0 + 20.0=70.0. \n"
          ]
        }
      ]
    },
    {
      "cell_type": "code",
      "source": [
        "print(\"06_square_number\")\n",
        "\n",
        "def main():\n",
        "    num: float = float(input(\"Type a number to see its square: \")) # Make sure to cast the input to a float so we can do math with it!\n",
        "    print(str(num) + \" squared is \" + str(num ** 2)) # num * num is equivalent to num ** 2. The ** operator raises something to a power!\n",
        "\n",
        "\n",
        "# There is no need to edit code beyond this point\n",
        "\n",
        "if __name__ == '__main__':\n",
        "    main()\n"
      ],
      "metadata": {
        "colab": {
          "base_uri": "https://localhost:8080/"
        },
        "id": "8trPO-1RukjS",
        "outputId": "2b7a41f0-1035-49e3-94eb-b6b658ab6083"
      },
      "execution_count": 1,
      "outputs": [
        {
          "output_type": "stream",
          "name": "stdout",
          "text": [
            "06_square_number\n",
            "Type a number to see its square: 2\n",
            "2.0 squared is 4.0\n"
          ]
        }
      ]
    }
  ]
}
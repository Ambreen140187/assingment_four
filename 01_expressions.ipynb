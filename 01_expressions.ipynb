{
  "nbformat": 4,
  "nbformat_minor": 0,
  "metadata": {
    "colab": {
      "provenance": [],
      "authorship_tag": "ABX9TyOHaRLS7JwWCl1ju6Gvccm6",
      "include_colab_link": true
    },
    "kernelspec": {
      "name": "python3",
      "display_name": "Python 3"
    },
    "language_info": {
      "name": "python"
    }
  },
  "cells": [
    {
      "cell_type": "markdown",
      "metadata": {
        "id": "view-in-github",
        "colab_type": "text"
      },
      "source": [
        "<a href=\"https://colab.research.google.com/github/Ambreen140187/assingment_four/blob/main/01_expressions.ipynb\" target=\"_parent\"><img src=\"https://colab.research.google.com/assets/colab-badge.svg\" alt=\"Open In Colab\"/></a>"
      ]
    },
    {
      "cell_type": "code",
      "execution_count": 1,
      "metadata": {
        "colab": {
          "base_uri": "https://localhost:8080/"
        },
        "id": "K706lPbp8-6Z",
        "outputId": "a97ed4db-6ce9-4feb-c3ca-62088882e3ff"
      },
      "outputs": [
        {
          "output_type": "stream",
          "name": "stdout",
          "text": [
            "die1 in main() starts as: 10\n",
            "Total of two dice: 4\n",
            "Total of two dice: 5\n",
            "Total of two dice: 9\n",
            "die1 in main() is: 10\n"
          ]
        }
      ],
      "source": [
        "\"\"\"\n",
        "Program: dicesimulator\n",
        "----------------------\n",
        "Simulate rolling two dice, three times.  Prints\n",
        "the results of each die roll.  This program is used\n",
        "to show how variable scope works.\n",
        "\"\"\"\n",
        "\n",
        "# Import the random library which lets us simulate random things like dice!\n",
        "import random\n",
        "\n",
        "# Number of sides on each die to roll\n",
        "NUM_SIDES = 6\n",
        "\n",
        "def roll_dice():\n",
        "    \"\"\"\n",
        "    Simulates rolling two dice and prints their total\n",
        "    \"\"\"\n",
        "    die1: int = random.randint(1, NUM_SIDES)\n",
        "    die2: int = random.randint(1, NUM_SIDES)\n",
        "    total: int = die1 + die2\n",
        "    print(\"Total of two dice:\", total)\n",
        "\n",
        "def main():\n",
        "    die1: int = 10\n",
        "    print(\"die1 in main() starts as: \" + str(die1))\n",
        "    roll_dice()\n",
        "    roll_dice()\n",
        "    roll_dice()\n",
        "    print(\"die1 in main() is: \" + str(die1))\n",
        "\n",
        "# This provided line is required at the end of a Python file\n",
        "# to call the main() function.\n",
        "if __name__ == '__main__':\n",
        "    main()"
      ]
    },
    {
      "cell_type": "code",
      "source": [
        "\n",
        "print(\"statement_2\")\n",
        "C: int = 299792458  # The speed of light in m/s\n",
        "\n",
        "def main():\n",
        "    mass_in_kg: float = float(input(\"Enter kilos of mass: \"))\n",
        "\n",
        "    # Calculate energy\n",
        "    # equivalently energy = mass * (C ** 2)\n",
        "    # using the ** operator to raise C to the power of 2\n",
        "    energy_in_joules: float = mass_in_kg * (C ** 2)\n",
        "\n",
        "    # Display work to the user\n",
        "    print(\"e = m * C^2...\")\n",
        "    print(\"m = \" + str(mass_in_kg) + \" kg\")\n",
        "    print(\"C = \" + str(C) + \" m/s\")\n",
        "\n",
        "    print(str(energy_in_joules) + \" joules of energy!\")\n",
        "\n",
        "\n",
        "# There is no need to edit code beyond this point\n",
        "\n",
        "if __name__ == '__main__':\n",
        "    main()"
      ],
      "metadata": {
        "colab": {
          "base_uri": "https://localhost:8080/"
        },
        "id": "PKblC8nB_ZPD",
        "outputId": "73fe16f4-f360-48f0-f712-fb17e1206e67"
      },
      "execution_count": 2,
      "outputs": [
        {
          "output_type": "stream",
          "name": "stdout",
          "text": [
            "statement_2\n",
            "Enter kilos of mass: 25\n",
            "e = m * C^2...\n",
            "m = 25.0 kg\n",
            "C = 299792458 m/s\n",
            "2.246887946842044e+18 joules of energy!\n"
          ]
        }
      ]
    },
    {
      "cell_type": "code",
      "source": [
        "print(\"Converts feet to inches\")\n",
        "\n",
        "\"\"\"\n",
        "An example program with constants\n",
        "\"\"\"\n",
        "\n",
        "INCHES_IN_FOOT: int = 12  # Conversion factor. There are 12 inches for 1 foot.\n",
        "\n",
        "def main():\n",
        "    feet: float = float(input(\"Enter number of feet: \"))  # Get the number of feet, make sure to cast it to a float!\n",
        "    inches: float = feet * INCHES_IN_FOOT  # Perform the conversion\n",
        "    print(\"That is\", inches, \"inches!\")\n",
        "\n",
        "\n",
        "# This provided line is required at the end of a Python file\n",
        "# to call the main() function.\n",
        "if __name__ == '__main__':\n",
        "    main()"
      ],
      "metadata": {
        "colab": {
          "base_uri": "https://localhost:8080/"
        },
        "id": "pfFLvHtrAWPq",
        "outputId": "ac76b50d-1446-4e6b-8e3e-3fcf57b2b825"
      },
      "execution_count": 3,
      "outputs": [
        {
          "output_type": "stream",
          "name": "stdout",
          "text": [
            "Converts feet to inches\n",
            "Enter number of feet: 2\n",
            "That is 24.0 inches!\n"
          ]
        }
      ]
    },
    {
      "cell_type": "code",
      "source": [
        "print(\"04_pythagorean_theorem\")\n",
        "import math  # Import the math library so we can use the sqrt function\n",
        "\n",
        "def main():\n",
        "    # Get the two side lengths from the user and cast them to be numbers\n",
        "    ab: float = float(input(\"Enter the length of AB: \"))\n",
        "    ac: float = float(input(\"Enter the length of AC: \"))\n",
        "\n",
        "    # Calculate the hypotenuse using the two sides and print it out\n",
        "    bc: float = math.sqrt(ab**2 + ac**2)\n",
        "    print(\"The length of BC (the hypotenuse) is: \" + str(bc))\n",
        "\n",
        "\n",
        "# There is no need to edit code beyond this point\n",
        "\n",
        "if __name__ == '__main__':\n",
        "    main()"
      ],
      "metadata": {
        "colab": {
          "base_uri": "https://localhost:8080/"
        },
        "id": "JPEF5i0sAut7",
        "outputId": "a3b9ad8a-6861-41b4-a5cf-aba4f0fdcb63"
      },
      "execution_count": 4,
      "outputs": [
        {
          "output_type": "stream",
          "name": "stdout",
          "text": [
            "04_pythagorean_theorem\n",
            "Enter the length of AB: 2\n",
            "Enter the length of AC: 2\n",
            "The length of BC (the hypotenuse) is: 2.8284271247461903\n"
          ]
        }
      ]
    },
    {
      "cell_type": "code",
      "source": [
        "print(\"05_remainder_division\")\n",
        "def main():\n",
        "    # Get the numbers we want to divide\n",
        "    dividend: int = int(input(\"Please enter an integer to be divided: \"))\n",
        "    divisor: int = int(input(\"Please enter an integer to divide by: \"))\n",
        "\n",
        "    quotient: int = dividend // divisor  # Divide with no remainder/decimals (integer division)\n",
        "    remainder: int = dividend % divisor  # Get the remainder of the division (modulo)\n",
        "\n",
        "    print(\"The result of this division is \" + str(quotient) + \" with a remainder of \" + str(remainder))\n",
        "\n",
        "\n",
        "# There is no need to edit code beyond this point\n",
        "\n",
        "if __name__ == '__main__':\n",
        "    main()\n"
      ],
      "metadata": {
        "colab": {
          "base_uri": "https://localhost:8080/"
        },
        "id": "Sh1qLsk4CDHw",
        "outputId": "61ae315a-045a-48f5-ec55-f63b38258109"
      },
      "execution_count": 5,
      "outputs": [
        {
          "output_type": "stream",
          "name": "stdout",
          "text": [
            "05_remainder_division\n",
            "Please enter an integer to be divided: 8\n",
            "Please enter an integer to divide by: 2\n",
            "The result of this division is 4 with a remainder of 0\n"
          ]
        }
      ]
    },
    {
      "cell_type": "code",
      "source": [
        "print(\"06_rolldice\")\n",
        "import random\n",
        "\n",
        "# Number of sides on each die to roll\n",
        "NUM_SIDES: int = 6\n",
        "\n",
        "def main():\n",
        "    # Setting a seed is useful for debugging (uncomment the line below to do so!)\n",
        "    # random.seed(1)\n",
        "\n",
        "    # Roll die\n",
        "    die1: int = random.randint(1, NUM_SIDES)\n",
        "    die2: int = random.randint(1, NUM_SIDES)\n",
        "\n",
        "    # Get their total\n",
        "    total: int = die1 + die2\n",
        "\n",
        "    # Print out the results\n",
        "    print(\"Dice have\", NUM_SIDES, \"sides each.\")\n",
        "    print(\"First die:\", die1)\n",
        "    print(\"Second die:\", die2)\n",
        "    print(\"Total of two dice:\", total)\n",
        "\n",
        "\n",
        "# This provided line is required at the end of a Python file\n",
        "# to call the main() function.\n",
        "if __name__ == '__main__':\n",
        "    main()\n",
        "\n"
      ],
      "metadata": {
        "colab": {
          "base_uri": "https://localhost:8080/"
        },
        "id": "NNs3fxk-CyKb",
        "outputId": "eaab7403-9149-4c2a-a107-1567d02a9566"
      },
      "execution_count": 8,
      "outputs": [
        {
          "output_type": "stream",
          "name": "stdout",
          "text": [
            "06_rolldice\n",
            "Dice have 6 sides each.\n",
            "First die: 3\n",
            "Second die: 2\n",
            "Total of two dice: 5\n"
          ]
        }
      ]
    },
    {
      "cell_type": "code",
      "source": [
        "print(\"06_seconds_in_year\")\n",
        "# Useful constants to help make the math easier and cleaner!\n",
        "DAYS_PER_YEAR: int = 365\n",
        "HOURS_PER_DAY: int = 24\n",
        "MIN_PER_HOUR: int = 60\n",
        "SEC_PER_MIN: int = 60\n",
        "\n",
        "def main():\n",
        "    # We can get the number of seconds per year by multiplying the handy constants above!\n",
        "    print(\"There are \" + str(DAYS_PER_YEAR * HOURS_PER_DAY * MIN_PER_HOUR * SEC_PER_MIN) + \" seconds in a year!\")\n",
        "\n",
        "\n",
        "# There is no need to edit code beyond this point\n",
        "\n",
        "if __name__ == '__main__':\n",
        "    main()"
      ],
      "metadata": {
        "colab": {
          "base_uri": "https://localhost:8080/"
        },
        "id": "OT1ckZjVD8fL",
        "outputId": "62775322-a2f5-4049-c7fc-f73bb7e589f9"
      },
      "execution_count": 10,
      "outputs": [
        {
          "output_type": "stream",
          "name": "stdout",
          "text": [
            "06_seconds_in_year\n",
            "There are 31536000 seconds in a year!\n"
          ]
        }
      ]
    },
    {
      "cell_type": "code",
      "source": [
        "print(\"07_tiny_mad_lib\")\n",
        "SENTENCE_START: str = \"Panaversity is fun. I learned to program and used Python to make my \" # adjective noun verb\n",
        "\n",
        "def main():\n",
        "    # Get the three inputs from the user to make the adlib\n",
        "    adjective: str = input(\"Please type an adjective and press enter. \")\n",
        "    noun: str = input(\"Please type a noun and press enter. \")\n",
        "    verb: str = input(\"Please type a verb and press enter. \")\n",
        "\n",
        "    # Join the inputs together with the sentence starter\n",
        "    print(SENTENCE_START + adjective + \" \" + noun + \" \" + verb + \"!\")\n",
        "\n",
        "\n",
        "# There is no need to edit code beyond this point\n",
        "\n",
        "if __name__ == '__main__':\n",
        "    main()"
      ],
      "metadata": {
        "colab": {
          "base_uri": "https://localhost:8080/"
        },
        "id": "2DQZkOiAEVwv",
        "outputId": "99862908-1aec-4a8d-d9bc-677db6081b70"
      },
      "execution_count": 12,
      "outputs": [
        {
          "output_type": "stream",
          "name": "stdout",
          "text": [
            "07_tiny_mad_lib\n",
            "Please type an adjective and press enter. strong\n",
            "Please type a noun and press enter. tiger\n",
            "Please type a verb and press enter. faster\n",
            "Panaversity is fun. I learned to program and used Python to make my strong tiger faster!\n"
          ]
        }
      ]
    }
  ]
}